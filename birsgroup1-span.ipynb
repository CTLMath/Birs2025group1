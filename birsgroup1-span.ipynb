{
 "cells": [
  {
   "cell_type": "markdown",
   "id": "16310c0c-4f04-48df-bbfb-0b237317cd71",
   "metadata": {},
   "source": [
    "# Its not Numbers in Boxes its Lights in Boxes\n",
    "\n",
    "### Group 1"
   ]
  },
  {
   "cell_type": "markdown",
   "id": "37c095a5-3b29-419f-8cd0-a48bd391fe87",
   "metadata": {},
   "source": [
    "## Know Your Audience (and Other Things)\n",
    "\n",
    "- Who are your students? How many are there?\n",
    "    - Second semester engineering students.\n",
    "    - Have calculus I, python, matlab\n",
    "    - approx 200 students\n",
    "    - full course load (6 courses, cohorts)\n",
    "- What is the range of prior knowledge of your students?\n",
    "    - no prior linear/matrix algebra\n",
    "    - computing knowledge is very minimal\n",
    "- What is the format of the course? What are the constraints?\n",
    "    - three 1 hours lectures per week. Large class. No computer lab. Students may have laptop/tablet.\n",
    "- How will you interact with students? What is the learning management system (LMS)?\n",
    "    - Live class and face-to-face office hours. Help also available from TA's in workshop.\n",
    "- What computational resources are available to students?\n",
    "    - Jupyter notebook through syzygy.\n",
    "    - Graphing utility: Desmos/Geogebra/etc.\n",
    "\n",
    "## Big Ideas and Essential Questions\n",
    "\n",
    "- What’s the big idea?\n",
    "    - Spanning set of a set of vectors.\n",
    "- What is the core understanding that you want students to learn?\n",
    "    - Given a set of vectors $\\{\\vec{v}_1,\\ldots,\\vec{v}_k\\}$, and another vector $\\vec{w}$ to be able to determine whether $\\vec{w} \\in \\text{Span}(\\vec{v}_1,\\ldots,\\vec{v}_k)$ both visually and computationally.\n",
    "- What essential questions engage students with the big idea?\n",
    "\n",
    "\n",
    "## Learning Goals\n",
    "- What knowledge and skills should students gain from this learning experience?\n",
    "    - The knowledge of what if means for a vector to be in the span of others, and the skill to read this information of from the reduced row echelon form (rref) of a matrix.\n",
    "- By the end of the activity, students should know...\n",
    "    - What it means for a vector to be in the spanning set\n",
    "- By the end of the activity, students should be able to...\n",
    "    - read this info off a rref and visually for a small dimensional example\n",
    "- Are the learning goals aligned with the big idea?\n",
    "\n",
    "## Learning Plan #\n",
    "- What do you want students to do? What problem are they trying to solve?\n",
    "- Are students working individually or collaboratively?\n",
    "- Is the learning activity a formative or a summative assessment?\n",
    "- Will students submit their work for grades?\n",
    "- Is the learning plan aligned with the learning goals?\n",
    "- Does the learning plan lead students to the big idea?"
   ]
  },
  {
   "cell_type": "markdown",
   "id": "adebbf12-748e-4bf4-9b8b-fefdbdebe957",
   "metadata": {},
   "source": [
    "To do...\n",
    "\n",
    "Include a preamble of definition of spanning set..."
   ]
  },
  {
   "cell_type": "markdown",
   "id": "3337d918-9a0a-4d3c-a8ec-ca7b558ca114",
   "metadata": {},
   "source": [
    "Consider the vectors $\\vec{v}_1 = \\begin{bmatrix}2\\\\1\\\\0 \\end{bmatrix}$ and $\\vec{v}_2 = \\begin{bmatrix}1\\\\1\\\\-1 \\end{bmatrix}$. We want to answer the following two questions:\n",
    "\n",
    "1. Is $\\vec{w}=\\begin{bmatrix}0\\\\-1\\\\2 \\end{bmatrix}$ in the span of $\\vec{v}_1$ and $\\vec{v}_2$?\n",
    "1. Is $\\vec{x}=\\begin{bmatrix}2\\\\-1\\\\0 \\end{bmatrix}$ in the span of $\\vec{v}_1$ and $\\vec{v}_2$?"
   ]
  },
  {
   "cell_type": "markdown",
   "id": "81d761a4-7796-420f-a130-7da18d85dec5",
   "metadata": {},
   "source": [
    "### Visually:\n",
    "\n",
    "Have a look at the following diagram. The span of $\\vec{v}_1$ and $\\vec{v}_2$ is shown visually as the plane. For a vector to be in the span of $\\vec{v}_1$ and $\\vec{v}_2$ it must lie in the plane. \n",
    "\n",
    "1. Does $\\vec{w}$ lie in the plane?\n",
    "2. Does $\\vec{x}$ lie in the plane?\n"
   ]
  },
  {
   "cell_type": "code",
   "execution_count": 13,
   "id": "0401a687-af6c-476f-ac22-e703b061e72b",
   "metadata": {
    "scrolled": true
   },
   "outputs": [
    {
     "data": {
      "text/html": [
       "\n",
       "        <iframe\n",
       "            width=\"100%\"\n",
       "            height=\"400\"\n",
       "            src=\"https://www.math3d.org/5xdxEmKQur\"\n",
       "            frameborder=\"0\"\n",
       "            allowfullscreen\n",
       "            \n",
       "        ></iframe>\n",
       "        "
      ],
      "text/plain": [
       "<IPython.lib.display.IFrame at 0x7ff1e3afc3e0>"
      ]
     },
     "execution_count": 13,
     "metadata": {},
     "output_type": "execute_result"
    }
   ],
   "source": [
    "from IPython.display import IFrame\n",
    "IFrame(\"https://www.math3d.org/5xdxEmKQur\", width=\"100%\", height=\"400\")"
   ]
  },
  {
   "cell_type": "markdown",
   "id": "052e7395-6177-46da-b7f0-47c1ab2b8115",
   "metadata": {},
   "source": [
    "From these observations, what are the answers to...\n",
    "\n",
    "1. Is $\\vec{w}$ in the span of $\\vec{v}_1$ and $\\vec{v}_2$?\n",
    "1. Is $\\vec{x}$ in the span of $\\vec{v}_1$ and $\\vec{v}_2$?"
   ]
  },
  {
   "cell_type": "markdown",
   "id": "e665beb5-41c7-489e-aa53-9788a5c00ac5",
   "metadata": {},
   "source": [
    "### Computationally\n",
    "\n",
    "We now answer the same two questions by referring to the rref of the augmented matrix.\n",
    "\n",
    "... need to flesh out detailed explanation here about how linear combination translates to augmented matrix...\n",
    "\n",
    "... but jumping to code now...."
   ]
  },
  {
   "cell_type": "code",
   "execution_count": 4,
   "id": "7625f6b3-1175-4df0-bd03-7ed7e7df6e1f",
   "metadata": {},
   "outputs": [],
   "source": [
    "import numpy as np"
   ]
  },
  {
   "cell_type": "code",
   "execution_count": 23,
   "id": "0005288e-a7a7-4fe3-832e-2a520a804a81",
   "metadata": {
    "jupyter": {
     "source_hidden": true
    }
   },
   "outputs": [],
   "source": [
    "# implementation of a rref command since numpy/scipy doesn't have one\n",
    "def rref(A, tol=1.0e-12):\n",
    "    ''' input: a matrix (2D array)\n",
    "       output: rref form of the matrix, and a tuple of pivot columns\n",
    "    '''   \n",
    "    m, n = A.shape\n",
    "    i, j = 0, 0\n",
    "    jb = [] # list of pivot columns\n",
    "\n",
    "    while i < m and j < n:\n",
    "        # Find value and index of largest element in the remainder of column j\n",
    "        k = np.argmax(np.abs(A[i:m, j])) + i\n",
    "        p = np.abs(A[k, j])\n",
    "        if p <= tol:\n",
    "            # The column is negligible, zero it out\n",
    "            A[i:m, j] = 0.0\n",
    "            j += 1\n",
    "        else:\n",
    "            # Remember the column index\n",
    "            jb.append(j)\n",
    "            if i != k:\n",
    "                # Swap the i-th and k-th rows\n",
    "                A[[i, k], j:n] = A[[k, i], j:n]\n",
    "            # Divide the pivot row i by the pivot element A[i, j]\n",
    "            A[i, j:n] = A[i, j:n] / A[i, j]\n",
    "            # Subtract multiples of the pivot row from all the other rows\n",
    "            for k in range(m):\n",
    "                if k != i:\n",
    "                    A[k, j:n] -= A[k, j] * A[i, j:n]\n",
    "            i += 1\n",
    "            j += 1\n",
    "    # Finished\n",
    "    return A, tuple(jb)"
   ]
  },
  {
   "cell_type": "markdown",
   "id": "71c1b3c7-61c8-49df-ba32-55be46e24c98",
   "metadata": {},
   "source": [
    "Form the augmented matrix:"
   ]
  },
  {
   "cell_type": "code",
   "execution_count": 17,
   "id": "7b2a742e-9047-485d-9a4b-ee1907d63f37",
   "metadata": {},
   "outputs": [],
   "source": [
    "A = np.array([[2.,1,0],[1,1,-1],[0,-1,2]])"
   ]
  },
  {
   "cell_type": "markdown",
   "id": "d16f0675-134a-45e3-a77d-deaf1ede57ca",
   "metadata": {},
   "source": [
    "Compute the row reduced echelon form:"
   ]
  },
  {
   "cell_type": "code",
   "execution_count": 20,
   "id": "af84fa3a-2a2c-446f-a15c-bd9677286bdb",
   "metadata": {},
   "outputs": [
    {
     "data": {
      "text/plain": [
       "(array([[ 1.,  0.,  1.],\n",
       "        [ 0.,  1., -2.],\n",
       "        [ 0.,  0.,  0.]]),\n",
       " (0, 1))"
      ]
     },
     "execution_count": 20,
     "metadata": {},
     "output_type": "execute_result"
    }
   ],
   "source": [
    "rref(A)"
   ]
  },
  {
   "cell_type": "markdown",
   "id": "51764b9d-19b2-4f67-906e-12378a217d14",
   "metadata": {},
   "source": [
    "From the output of the calculation can we see what the solutions are to this vector equation? \n",
    "\n",
    "$$c_1 \\vec{v}_1 + c_2 \\vec{v}_2 = c_1 \\begin{bmatrix}2\\\\1\\\\0 \\end{bmatrix} + c_2 \\begin{bmatrix}1\\\\1\\\\-1 \\end{bmatrix} = \\begin{bmatrix}1\\\\-2\\\\0 \\end{bmatrix}$$"
   ]
  },
  {
   "cell_type": "code",
   "execution_count": 22,
   "id": "2f47951d-9d28-4b9d-8814-7aee752f7a05",
   "metadata": {},
   "outputs": [
    {
     "data": {
      "text/plain": [
       "array([ 1., -2.,  0.])"
      ]
     },
     "execution_count": 22,
     "metadata": {},
     "output_type": "execute_result"
    }
   ],
   "source": [
    "c1 = 1\n",
    "c2 = -2\n",
    "# verify solution\n",
    "c1*A[:,0]+c2*A[:,1]"
   ]
  },
  {
   "cell_type": "markdown",
   "id": "df7eb2a6-3849-4812-8a2f-9c4269cd4328",
   "metadata": {},
   "source": [
    "Now turing out attention to vector $\\vec{x}$, we again form the augmented matrix and compute the rref."
   ]
  },
  {
   "cell_type": "code",
   "execution_count": 24,
   "id": "7456c2cb-3224-47b5-b31a-97fe11c1a96e",
   "metadata": {},
   "outputs": [
    {
     "data": {
      "text/plain": [
       "(array([[1., 0., 0.],\n",
       "        [0., 1., 0.],\n",
       "        [0., 0., 1.]]),\n",
       " (0, 1, 2))"
      ]
     },
     "execution_count": 24,
     "metadata": {},
     "output_type": "execute_result"
    }
   ],
   "source": [
    "A = np.array([[2.,1,0],[1,1,-1],[2,-1,0]])\n",
    "rref(A)"
   ]
  },
  {
   "cell_type": "markdown",
   "id": "dabd932f-70b4-43f5-8477-57002b093ff5",
   "metadata": {},
   "source": [
    "In this case the augmented matrix has no solutions, meaning $\\vec{x}$ is not in the span of $\\vec{v}_1$ and $\\vec{v}_2$."
   ]
  },
  {
   "cell_type": "markdown",
   "id": "1e81a510-8c35-4da2-af61-98a5b97b3b2b",
   "metadata": {},
   "source": [
    "### A larger dimensional example\n",
    "\n",
    "to do..."
   ]
  },
  {
   "cell_type": "code",
   "execution_count": null,
   "id": "27b8056d-7135-4757-920c-d318dd6c1ef7",
   "metadata": {},
   "outputs": [],
   "source": []
  },
  {
   "cell_type": "code",
   "execution_count": null,
   "id": "c3dc7554-7dc6-44b2-b13e-0c1fae13af19",
   "metadata": {},
   "outputs": [],
   "source": []
  },
  {
   "cell_type": "code",
   "execution_count": null,
   "id": "377813d7-b860-46dc-89b7-4fe4a8f0fa4f",
   "metadata": {},
   "outputs": [],
   "source": []
  },
  {
   "cell_type": "code",
   "execution_count": null,
   "id": "dad4f20d-eba1-46fa-b72a-bad76a4178ff",
   "metadata": {},
   "outputs": [],
   "source": []
  },
  {
   "cell_type": "markdown",
   "id": "465d9b06-cdaf-431f-afe9-a14af0e7bc2e",
   "metadata": {},
   "source": [
    "### Application: Lights Out Puzzle"
   ]
  },
  {
   "cell_type": "markdown",
   "id": "61aa2217-4a4a-4383-8df8-bd8cea173f23",
   "metadata": {},
   "source": [
    "<img src=\"https://www.sfu.ca/~jtmulhol/math302/images/pic-puzzle-lo.png\" alt=\"lights out\" width=\"150\"/>\n",
    "\n",
    "This electronic puzzle consists of a 5-by-5 grid of lights; when the game starts, a set of these lights (random, or one of a set of stored puzzle patterns) are switched on. Pressing one of the lights will toggle it, and the four lights adjacent to it, on and off. The game provides a puzzle: given some initial configuration where some lights are on and some are off, the goal is to switch all the lights off, preferably in as few button presses as possible.\n",
    "\n",
    "Try it out for yourself. Execute the following cell to load the puzzle. Use the drop down menu to select an intial configuration of lights, then try to press buttons until all the lights are off. Good luck!"
   ]
  },
  {
   "cell_type": "code",
   "execution_count": 27,
   "id": "3f8941b7-e241-4c0c-901f-04df8858cea3",
   "metadata": {},
   "outputs": [
    {
     "data": {
      "text/html": [
       "\n",
       "        <iframe\n",
       "            width=\"100%\"\n",
       "            height=\"200\"\n",
       "            src=\"https://www.jaapsch.net/puzzles/javascript/lightjcl.htm\"\n",
       "            frameborder=\"0\"\n",
       "            allowfullscreen\n",
       "            \n",
       "        ></iframe>\n",
       "        "
      ],
      "text/plain": [
       "<IPython.lib.display.IFrame at 0x7ff1ec41a7b0>"
      ]
     },
     "execution_count": 27,
     "metadata": {},
     "output_type": "execute_result"
    }
   ],
   "source": [
    "from IPython.display import IFrame\n",
    "IFrame(\"https://www.jaapsch.net/puzzles/javascript/lightjcl.htm\", width=\"100%\", height=\"200\")"
   ]
  },
  {
   "cell_type": "markdown",
   "id": "bf728f5b-664b-4c17-9e14-70e3c6ea4104",
   "metadata": {},
   "source": [
    "Let's recast this puzzle in terms of vectors. Press a button changes the state of some lights, we can record this as a vector with 25 entries (i.e. a 25-dimenstional vector) where an entry is 1 if the light in that position changes state, or 0 if it doesn't change state.\n",
    "\n",
    "Similary we represent the starting configuration of lights as a 25-dimenstional vector where an entry is 1 if the light is on and 0 if the light is off.\n",
    "\n",
    "To turn out the lights is equivalent to finding a linear combination of the button press vectors that sum to the starting configuration vector.\n",
    "\n",
    "Let's do this...\n",
    "\n",
    "To the instructor: we need to do linear algebra over GF(2) which means installing the galois package, re-executing rref, and building a solver for a linear systerm over GF(2).... best to hide all this from the student."
   ]
  },
  {
   "cell_type": "code",
   "execution_count": 28,
   "id": "c2dd11fb-33bd-43c9-87d9-2dfc332bc2eb",
   "metadata": {},
   "outputs": [
    {
     "name": "stdout",
     "output_type": "stream",
     "text": [
      "Collecting galois\n",
      "  Using cached galois-0.4.6-py3-none-any.whl.metadata (14 kB)\n",
      "Requirement already satisfied: numpy>=1.21.0 in /opt/conda/lib/python3.12/site-packages (from galois) (1.26.4)\n",
      "Requirement already satisfied: numba<0.62,>=0.55 in /opt/conda/lib/python3.12/site-packages (from galois) (0.60.0)\n",
      "Requirement already satisfied: typing-extensions>=4.0.0 in /opt/conda/lib/python3.12/site-packages (from galois) (4.12.2)\n",
      "Requirement already satisfied: llvmlite<0.44,>=0.43.0dev0 in /opt/conda/lib/python3.12/site-packages (from numba<0.62,>=0.55->galois) (0.43.0)\n",
      "Using cached galois-0.4.6-py3-none-any.whl (4.2 MB)\n",
      "Installing collected packages: galois\n",
      "Successfully installed galois-0.4.6\n",
      "Note: you may need to restart the kernel to use updated packages.\n"
     ]
    }
   ],
   "source": [
    "pip install galois"
   ]
  },
  {
   "cell_type": "code",
   "execution_count": 29,
   "id": "a8604a53-2d32-4c5a-9d50-19d3a786f931",
   "metadata": {
    "jupyter": {
     "source_hidden": true
    }
   },
   "outputs": [],
   "source": [
    "import galois"
   ]
  },
  {
   "cell_type": "code",
   "execution_count": 30,
   "id": "28e332cf-0751-4c1e-8f95-695672ecffef",
   "metadata": {},
   "outputs": [
    {
     "name": "stderr",
     "output_type": "stream",
     "text": [
      "OMP: Info #276: omp_set_nested routine deprecated, please use omp_set_max_active_levels instead.\n"
     ]
    }
   ],
   "source": [
    "GF = galois.GF(2)"
   ]
  },
  {
   "cell_type": "code",
   "execution_count": 33,
   "id": "16ff7af9-62dc-49cf-93d8-4a225b64ff0e",
   "metadata": {
    "jupyter": {
     "source_hidden": true
    }
   },
   "outputs": [],
   "source": [
    "def rref(A):\n",
    "    ''' input: a matrix over a finite field GF(p^n)\n",
    "       output: rref form of the matrix, and a tuple of pivot columns\n",
    "    '''   \n",
    "    m, n = A.shape\n",
    "    i, j = 0, 0\n",
    "    jb = [] # list of pivot columns\n",
    "\n",
    "    while i < m and j < n:\n",
    "        # Find value and index of largest element in the remainder of column j\n",
    "        k = np.argmax(np.abs(A[i:m, j])) + i\n",
    "        p = np.abs(A[k, j])\n",
    "        if p == 0:\n",
    "            # The column is negligible\n",
    "            j += 1\n",
    "        else:\n",
    "            # Remember the column index\n",
    "            jb.append(j)\n",
    "            if i != k:\n",
    "                # Swap the i-th and k-th rows\n",
    "                A[[i, k], j:n] = A[[k, i], j:n]\n",
    "            # Divide the pivot row i by the pivot element A[i, j]\n",
    "            A[i, j:n] = A[i, j:n] / A[i, j]\n",
    "            # Subtract multiples of the pivot row from all the other rows\n",
    "            for k in range(m):\n",
    "                if k != i:\n",
    "                    A[k, j:n] -= A[k, j] * A[i, j:n]\n",
    "            i += 1\n",
    "            j += 1\n",
    "    # Finished\n",
    "    return A, tuple(jb)"
   ]
  },
  {
   "cell_type": "code",
   "execution_count": 34,
   "id": "0069702f-bc8d-4ac2-80c2-00d5f2d7a141",
   "metadata": {
    "jupyter": {
     "source_hidden": true
    }
   },
   "outputs": [],
   "source": [
    "def lights_out(n):\n",
    "    A = np.eye(n*n).astype('int16')     # initialize A with ones along diagonal\n",
    "    for i in range(n):\n",
    "        for j in range(n):\n",
    "            m = n*i+j\n",
    "            if i > 0 : A[(m,m-n)] = 1   # I block below diagonal\n",
    "            if i < n-1 : A[(m,m+n)] = 1 # I block above diagonal\n",
    "            if j > 0 : A[(m,m-1)] = 1   # C block below diagonal\n",
    "            if j < n-1 : A[(m,m+1)] = 1 # C block above diagonal\n",
    "    return A.view(GF) # convert entries to GF upon return\n",
    "\n",
    "# Function:  number_of_presses\n",
    "# input = a vector x of dimension 25 with 0,1 entries\n",
    "# output = the number of times 1 appears as an entry\n",
    "def number_of_presses(x):\n",
    "    counter=0;\n",
    "    for i in range(0,25):\n",
    "        if x[i]==1: counter=counter+1\n",
    "    return counter\n",
    "\n",
    "# Function:  optimal_solution\n",
    "# input = a strategy vector x\n",
    "# output = an equivalent strategy vector which uses the minimum number of button presses\n",
    "def optimal_solution(x):\n",
    "    op_button_presses = x\n",
    "    n = number_of_presses(x)\n",
    "    nul = lights_out(5).null_space()\n",
    "    for d in nul:\n",
    "        if number_of_presses(x+d) < n:\n",
    "            op_button_presses = x+d     # update variable\n",
    "            n = number_of_presses(x+d)  # update variable\n",
    "    return op_button_presses\n",
    "\n",
    "def find_a_solution(M,b):\n",
    "# Function:  find_a_solution\n",
    "# input = matrix M, vector b\n",
    "# output = one solution to Mx = b\n",
    "    RR, piv = rref(np.hstack([M,b]).view(GF))\n",
    "    if piv[-1] == M.shape[1]: # last column is pivot column\n",
    "        return 'no solution'\n",
    "    else:\n",
    "        return RR[:,-1] \n",
    "\n",
    "# Function:  lights_out_solver\n",
    "# input = b the configuration vector of lights on 5-by-5 game\n",
    "# output = a matrix which solve the puzzle using the least number of button presses\n",
    "def lights_out_solver(b):\n",
    "    x=find_a_solution(lights_out(5),b);  # one solution\n",
    "    if isinstance(x, str):\n",
    "        return \"no solution\"\n",
    "    x=optimal_solution(x)     # exchanges x for an optimal solution\n",
    "    button_press_matrix = x.reshape((5,5))\n",
    "    return button_press_matrix"
   ]
  },
  {
   "cell_type": "markdown",
   "id": "b7526059-7cbb-4085-8e34-905a64361c53",
   "metadata": {},
   "source": [
    "Time for an example:\n",
    "\n",
    "Suppose the initial configuration of lights is as follows (0=off, 1=on):\n",
    "\n",
    "$$\\begin{matrix}\n",
    "1&0&0&0&0\\\\ 1&0&1&0&1\\\\ 1&0&0&0&1\\\\ 1&0&1&0&1\\\\ 0&0&0&0&1\n",
    "\\end{matrix}\n",
    "$$\n",
    "\n",
    "You can click \"edit\" in the puzzle below, set-up the lights to match this initial configuration, then click edit again to lock it in. Then try to solve it.\n",
    "\n",
    "Here we enter it into python as a 25-dimensional vector and solve for the coeffiecients of the linear combination of button presses. The output is formatted in a way which tells you which buttons to press: 1=press, 0=don't press."
   ]
  },
  {
   "cell_type": "code",
   "execution_count": 36,
   "id": "a236446b-d581-49d3-8126-155a4ae61fa7",
   "metadata": {},
   "outputs": [
    {
     "data": {
      "text/plain": [
       "GF([[0, 0, 0, 1, 1],\n",
       "    [1, 0, 1, 0, 0],\n",
       "    [0, 0, 0, 0, 0],\n",
       "    [0, 0, 1, 0, 1],\n",
       "    [1, 1, 0, 0, 0]], order=2)"
      ]
     },
     "execution_count": 36,
     "metadata": {},
     "output_type": "execute_result"
    }
   ],
   "source": [
    "# Example\n",
    "b=GF([1,0,0,0,0, 1,0,1,0,1, 1,0,0,0,1, 1,0,1,0,1, 0,0,0,0,1]).reshape(25,1)\n",
    "lights_out_solver(b)"
   ]
  },
  {
   "cell_type": "code",
   "execution_count": 1,
   "id": "df1d78af-82cb-42aa-99a3-c6dab8411c4b",
   "metadata": {},
   "outputs": [
    {
     "data": {
      "text/html": [
       "\n",
       "        <iframe\n",
       "            width=\"100%\"\n",
       "            height=\"200\"\n",
       "            src=\"https://www.jaapsch.net/puzzles/javascript/lightjcl.htm\"\n",
       "            frameborder=\"0\"\n",
       "            allowfullscreen\n",
       "            \n",
       "        ></iframe>\n",
       "        "
      ],
      "text/plain": [
       "<IPython.lib.display.IFrame at 0x7f4d1c143d40>"
      ]
     },
     "execution_count": 1,
     "metadata": {},
     "output_type": "execute_result"
    }
   ],
   "source": [
    "from IPython.display import IFrame\n",
    "IFrame(\"https://www.jaapsch.net/puzzles/javascript/lightjcl.htm\", width=\"100%\", height=\"200\")"
   ]
  },
  {
   "cell_type": "markdown",
   "id": "da3afcb2-7fb3-440e-a629-b8fdcb584f45",
   "metadata": {},
   "source": [
    "Try out different intitial configurations of lights using the drop down menu. Then use the code window above to change b to the configuration of lights and have python compute the solution."
   ]
  },
  {
   "cell_type": "code",
   "execution_count": null,
   "id": "f05aefe8-f79f-4a70-a29f-60d485084f32",
   "metadata": {},
   "outputs": [],
   "source": []
  }
 ],
 "metadata": {
  "kernelspec": {
   "display_name": "Python 3 (ipykernel)",
   "language": "python",
   "name": "python3"
  },
  "language_info": {
   "codemirror_mode": {
    "name": "ipython",
    "version": 3
   },
   "file_extension": ".py",
   "mimetype": "text/x-python",
   "name": "python",
   "nbconvert_exporter": "python",
   "pygments_lexer": "ipython3",
   "version": "3.12.8"
  }
 },
 "nbformat": 4,
 "nbformat_minor": 5
}
