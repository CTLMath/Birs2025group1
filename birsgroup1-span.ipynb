{
 "cells": [
  {
   "cell_type": "markdown",
   "id": "16310c0c-4f04-48df-bbfb-0b237317cd71",
   "metadata": {},
   "source": [
    "# Its not Numbers in Boxes its Ligths in Boxes"
   ]
  },
  {
   "cell_type": "markdown",
   "id": "37c095a5-3b29-419f-8cd0-a48bd391fe87",
   "metadata": {},
   "source": [
    "# Know Your Audience (and Other Things)\n",
    "\n",
    "- Who are your students? How many are there?\n",
    "    - Second semester engineering students.\n",
    "    - Have calculus I, python, matlab\n",
    "    - approx 200 students\n",
    "    - full course load (6 courses, cohorts)\n",
    "- What is the range of prior knowledge of your students?\n",
    "    - no linear algebra\n",
    "    - computing knowledge (very minimal)\n",
    "- What is the format of the course? What are the constraints?\n",
    "    - three 1 hours lectures per week. Large class. No computer lab. Students may have laptop/tablet.\n",
    "- How will you interact with students? What is the learning management system (LMS)?\n",
    "    - In live class and office hours. Help available from TA's in workshop.\n",
    "- What computational resources are available to students?\n",
    "    - Jupyter notebook through syzygy\n",
    "\n",
    "# Big Ideas and Essential Questions\n",
    "\n",
    "- What’s the big idea?\n",
    "    - Determine whether a given vector is in the span of a set of vectors.\n",
    "- What is the core understanding that you want students to learn?\n",
    "    - To be able to deterimine whether a vector is in the span of a set of vectors visually and computationally.\n",
    "- What essential questions engage students with the big idea?\n",
    "\n",
    "\n",
    "# Learning Goals\n",
    "- What knowledge and skills should students gain from this learning experience?\n",
    "    - The knowledge of what if means for a vector to be in the span of others, and the skill to read this information of from a rref.\n",
    "- By the end of the activity, students should know.\n",
    "    - \n",
    "- By the end of the course/unit/activity, students should be able to.\n",
    "    - read this info off a rref and visually for a small dimensional example\n",
    "- Are the learning goals aligned with the big idea?\n",
    "\n",
    "# Learning Plan\n",
    "- What do you want students to do? What problem are they trying to solve?\n",
    "    - \n",
    "- Are students working individually or collaboratively?\n",
    "- Is the learning activity a formative or a summative assessment?\n",
    "- Will students submit their work for grades?\n",
    "- Is the learning plan aligned with the learning goals?\n",
    "- Does the learning plan lead students to the big idea?"
   ]
  },
  {
   "cell_type": "code",
   "execution_count": null,
   "id": "7625f6b3-1175-4df0-bd03-7ed7e7df6e1f",
   "metadata": {},
   "outputs": [],
   "source": []
  },
  {
   "cell_type": "code",
   "execution_count": null,
   "id": "ec47e5e4-2aaa-453f-9220-beda10722ddd",
   "metadata": {},
   "outputs": [],
   "source": []
  },
  {
   "cell_type": "code",
   "execution_count": null,
   "id": "c737b8fb-e90d-400d-86bb-963b9d9eaa22",
   "metadata": {},
   "outputs": [],
   "source": []
  },
  {
   "cell_type": "code",
   "execution_count": null,
   "id": "0005288e-a7a7-4fe3-832e-2a520a804a81",
   "metadata": {},
   "outputs": [],
   "source": []
  },
  {
   "cell_type": "code",
   "execution_count": 3,
   "id": "0401a687-af6c-476f-ac22-e703b061e72b",
   "metadata": {
    "scrolled": true
   },
   "outputs": [
    {
     "data": {
      "text/html": [
       "\n",
       "        <iframe\n",
       "            width=\"100%\"\n",
       "            height=\"800\"\n",
       "            src=\"https://www.math3d.org/nUqY1Bpz41\"\n",
       "            frameborder=\"0\"\n",
       "            allowfullscreen\n",
       "            \n",
       "        ></iframe>\n",
       "        "
      ],
      "text/plain": [
       "<IPython.lib.display.IFrame at 0x7f7991f1ab10>"
      ]
     },
     "execution_count": 3,
     "metadata": {},
     "output_type": "execute_result"
    }
   ],
   "source": [
    "from IPython.display import IFrame\n",
    "IFrame(\"https://www.math3d.org/nUqY1Bpz41\", width=\"100%\", height=\"800\")"
   ]
  },
  {
   "cell_type": "code",
   "execution_count": null,
   "id": "bad693f5-a6f1-4f0e-8c57-2dd5a0576f0b",
   "metadata": {},
   "outputs": [],
   "source": []
  },
  {
   "cell_type": "code",
   "execution_count": 5,
   "id": "fbf453b8-205c-457c-9b5f-43a318a959a3",
   "metadata": {},
   "outputs": [],
   "source": [
    "import numpy as np"
   ]
  },
  {
   "cell_type": "code",
   "execution_count": 7,
   "id": "41ab9211-c151-43b1-9358-6a84d7486ba2",
   "metadata": {},
   "outputs": [],
   "source": [
    "v1 = np.array([1,2,-1])\n",
    "v2 = np.array([3,-3,2])"
   ]
  },
  {
   "cell_type": "code",
   "execution_count": null,
   "id": "aec92399-172b-4a3d-ac31-4e7b70ea38b1",
   "metadata": {},
   "outputs": [],
   "source": []
  },
  {
   "cell_type": "code",
   "execution_count": null,
   "id": "0e26b11b-78bc-4d0d-98ff-07226004575b",
   "metadata": {},
   "outputs": [],
   "source": []
  },
  {
   "cell_type": "code",
   "execution_count": null,
   "id": "dad4f20d-eba1-46fa-b72a-bad76a4178ff",
   "metadata": {},
   "outputs": [],
   "source": []
  },
  {
   "cell_type": "markdown",
   "id": "465d9b06-cdaf-431f-afe9-a14af0e7bc2e",
   "metadata": {},
   "source": [
    "### Lights Out"
   ]
  },
  {
   "cell_type": "code",
   "execution_count": 8,
   "id": "c2dd11fb-33bd-43c9-87d9-2dfc332bc2eb",
   "metadata": {},
   "outputs": [
    {
     "name": "stdout",
     "output_type": "stream",
     "text": [
      "Collecting galois\n",
      "  Using cached galois-0.4.6-py3-none-any.whl.metadata (14 kB)\n",
      "Requirement already satisfied: numpy>=1.21.0 in /opt/conda/lib/python3.12/site-packages (from galois) (1.26.4)\n",
      "Requirement already satisfied: numba<0.62,>=0.55 in /opt/conda/lib/python3.12/site-packages (from galois) (0.60.0)\n",
      "Requirement already satisfied: typing-extensions>=4.0.0 in /opt/conda/lib/python3.12/site-packages (from galois) (4.12.2)\n",
      "Requirement already satisfied: llvmlite<0.44,>=0.43.0dev0 in /opt/conda/lib/python3.12/site-packages (from numba<0.62,>=0.55->galois) (0.43.0)\n",
      "Using cached galois-0.4.6-py3-none-any.whl (4.2 MB)\n",
      "Installing collected packages: galois\n",
      "Successfully installed galois-0.4.6\n",
      "Note: you may need to restart the kernel to use updated packages.\n"
     ]
    }
   ],
   "source": [
    "pip install galois"
   ]
  },
  {
   "cell_type": "code",
   "execution_count": 9,
   "id": "a8604a53-2d32-4c5a-9d50-19d3a786f931",
   "metadata": {},
   "outputs": [],
   "source": [
    "import galois\n",
    "import numpy as np"
   ]
  },
  {
   "cell_type": "code",
   "execution_count": 10,
   "id": "28e332cf-0751-4c1e-8f95-695672ecffef",
   "metadata": {},
   "outputs": [
    {
     "name": "stderr",
     "output_type": "stream",
     "text": [
      "OMP: Info #276: omp_set_nested routine deprecated, please use omp_set_max_active_levels instead.\n"
     ]
    }
   ],
   "source": [
    "GF = galois.GF(2)"
   ]
  },
  {
   "cell_type": "code",
   "execution_count": 11,
   "id": "16ff7af9-62dc-49cf-93d8-4a225b64ff0e",
   "metadata": {},
   "outputs": [],
   "source": [
    "def rref(A):\n",
    "    ''' input: a matrix over a finite field GF(p^n)\n",
    "       output: rref form of the matrix, and a tuple of pivot columns\n",
    "    '''   \n",
    "    m, n = A.shape\n",
    "    i, j = 0, 0\n",
    "    jb = [] # list of pivot columns\n",
    "\n",
    "    while i < m and j < n:\n",
    "        # Find value and index of largest element in the remainder of column j\n",
    "        k = np.argmax(np.abs(A[i:m, j])) + i\n",
    "        p = np.abs(A[k, j])\n",
    "        if p == 0:\n",
    "            # The column is negligible\n",
    "            j += 1\n",
    "        else:\n",
    "            # Remember the column index\n",
    "            jb.append(j)\n",
    "            if i != k:\n",
    "                # Swap the i-th and k-th rows\n",
    "                A[[i, k], j:n] = A[[k, i], j:n]\n",
    "            # Divide the pivot row i by the pivot element A[i, j]\n",
    "            A[i, j:n] = A[i, j:n] / A[i, j]\n",
    "            # Subtract multiples of the pivot row from all the other rows\n",
    "            for k in range(m):\n",
    "                if k != i:\n",
    "                    A[k, j:n] -= A[k, j] * A[i, j:n]\n",
    "            i += 1\n",
    "            j += 1\n",
    "    # Finished\n",
    "    return A, tuple(jb)"
   ]
  },
  {
   "cell_type": "code",
   "execution_count": 12,
   "id": "0069702f-bc8d-4ac2-80c2-00d5f2d7a141",
   "metadata": {},
   "outputs": [
    {
     "data": {
      "text/plain": [
       "GF([[0, 0, 0, 1, 1],\n",
       "    [1, 0, 1, 0, 0],\n",
       "    [0, 0, 0, 0, 0],\n",
       "    [0, 0, 1, 0, 1],\n",
       "    [1, 1, 0, 0, 0]], order=2)"
      ]
     },
     "execution_count": 12,
     "metadata": {},
     "output_type": "execute_result"
    }
   ],
   "source": [
    "def lights_out(n):\n",
    "    A = np.eye(n*n).astype('int16')     # initialize A with ones along diagonal\n",
    "    for i in range(n):\n",
    "        for j in range(n):\n",
    "            m = n*i+j\n",
    "            if i > 0 : A[(m,m-n)] = 1   # I block below diagonal\n",
    "            if i < n-1 : A[(m,m+n)] = 1 # I block above diagonal\n",
    "            if j > 0 : A[(m,m-1)] = 1   # C block below diagonal\n",
    "            if j < n-1 : A[(m,m+1)] = 1 # C block above diagonal\n",
    "    return A.view(GF) # convert entries to GF upon return\n",
    "\n",
    "# Function:  number_of_presses\n",
    "# input = a vector x of dimension 25 with 0,1 entries\n",
    "# output = the number of times 1 appears as an entry\n",
    "def number_of_presses(x):\n",
    "    counter=0;\n",
    "    for i in range(0,25):\n",
    "        if x[i]==1: counter=counter+1\n",
    "    return counter\n",
    "\n",
    "# Function:  optimal_solution\n",
    "# input = a strategy vector x\n",
    "# output = an equivalent strategy vector which uses the minimum number of button presses\n",
    "def optimal_solution(x):\n",
    "    op_button_presses = x\n",
    "    n = number_of_presses(x)\n",
    "    nul = lights_out(5).null_space()\n",
    "    for d in nul:\n",
    "        if number_of_presses(x+d) < n:\n",
    "            op_button_presses = x+d     # update variable\n",
    "            n = number_of_presses(x+d)  # update variable\n",
    "    return op_button_presses\n",
    "\n",
    "def find_a_solution(M,b):\n",
    "# Function:  find_a_solution\n",
    "# input = matrix M, vector b\n",
    "# output = one solution to Mx = b\n",
    "    RR, piv = rref(np.hstack([M,b]).view(GF))\n",
    "    if piv[-1] == M.shape[1]: # last column is pivot column\n",
    "        return 'no solution'\n",
    "    else:\n",
    "        return RR[:,-1] \n",
    "\n",
    "# Function:  lights_out_solver\n",
    "# input = b the configuration vector of lights on 5-by-5 game\n",
    "# output = a matrix which solve the puzzle using the least number of button presses\n",
    "def lights_out_solver(b):\n",
    "    x=find_a_solution(lights_out(5),b);  # one solution\n",
    "    if isinstance(x, str):\n",
    "        return \"no solution\"\n",
    "    x=optimal_solution(x)     # exchanges x for an optimal solution\n",
    "    button_press_matrix = x.reshape((5,5))\n",
    "    return button_press_matrix\n",
    "\n",
    "# Example\n",
    "b=GF([1,0,0,0,0, 1,0,1,0,1, 1,0,0,0,1, 1,0,1,0,1, 0,0,0,0,1]).reshape(25,1)\n",
    "lights_out_solver(b)"
   ]
  },
  {
   "cell_type": "code",
   "execution_count": 1,
   "id": "df1d78af-82cb-42aa-99a3-c6dab8411c4b",
   "metadata": {},
   "outputs": [
    {
     "data": {
      "text/html": [
       "\n",
       "        <iframe\n",
       "            width=\"100%\"\n",
       "            height=\"200\"\n",
       "            src=\"https://www.jaapsch.net/puzzles/javascript/lightjcl.htm\"\n",
       "            frameborder=\"0\"\n",
       "            allowfullscreen\n",
       "            \n",
       "        ></iframe>\n",
       "        "
      ],
      "text/plain": [
       "<IPython.lib.display.IFrame at 0x7f4d1c143d40>"
      ]
     },
     "execution_count": 1,
     "metadata": {},
     "output_type": "execute_result"
    }
   ],
   "source": [
    "from IPython.display import IFrame\n",
    "IFrame(\"https://www.jaapsch.net/puzzles/javascript/lightjcl.htm\", width=\"100%\", height=\"200\")"
   ]
  },
  {
   "cell_type": "code",
   "execution_count": null,
   "id": "da3a0928-88b1-4343-b854-c31791b969f4",
   "metadata": {},
   "outputs": [],
   "source": []
  }
 ],
 "metadata": {
  "kernelspec": {
   "display_name": "Python 3 (ipykernel)",
   "language": "python",
   "name": "python3"
  },
  "language_info": {
   "codemirror_mode": {
    "name": "ipython",
    "version": 3
   },
   "file_extension": ".py",
   "mimetype": "text/x-python",
   "name": "python",
   "nbconvert_exporter": "python",
   "pygments_lexer": "ipython3",
   "version": "3.12.8"
  }
 },
 "nbformat": 4,
 "nbformat_minor": 5
}
